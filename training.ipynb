{
 "cells": [
  {
   "cell_type": "code",
   "execution_count": null,
   "id": "d6f552df",
   "metadata": {},
   "outputs": [],
   "source": [
    "import torch\n",
    "import torch.nn as nn\n",
    "import torch.optim as optim\n",
    "from torch.utils.data import Dataset, DataLoader\n",
    "import numpy as np\n",
    "import pandas as pd\n",
    "import scanpy as sc"
   ]
  },
  {
   "cell_type": "code",
   "execution_count": null,
   "id": "75de52e6",
   "metadata": {},
   "outputs": [],
   "source": [
    "if __name__ == '__main__':\n",
    "    # 1. Create Dummy Data (replace with real data)\n",
    "    # For probabilistic head, use raw-ish counts\n",
    "    dummy_counts = np.random.poisson(lam=2.0, size=(500, CONFIG[\"n_genes\"]))\n",
    "    adata = sc.AnnData(dummy_counts)\n",
    "    adata.obs['perturbation_idx'] = np.random.randint(0, CONFIG[\"n_perturbations\"], size=adata.n_obs)\n",
    "    sc.pp.calculate_qc_metrics(adata, inplace=True)\n",
    "\n",
    "    # 2. Pre-compute Fixed Features (run once, then save/load)\n",
    "    control_adata = sc.AnnData(np.random.poisson(lam=1.5, size=(1000, CONFIG[\"n_genes\"])))\n",
    "    pathway_feats = precompute_pathway_features(control_adata, CONFIG)\n",
    "    chr_idx, locus_norm = precompute_positional_indices(None, CONFIG)\n",
    "\n",
    "    # 3. Instantiate Model, Dataset, Dataloader\n",
    "    device = torch.device(\"cuda\" if torch.cuda.is_available() else \"cpu\")\n",
    "    print(f\"\\nUsing device: {device}\")\n",
    "    model = TranscriptomePredictor(CONFIG, pathway_feats, chr_idx, locus_norm).to(device)\n",
    "    \n",
    "    dataset = PerturbationDataset(adata)\n",
    "    dataloader = DataLoader(dataset, batch_size=CONFIG[\"batch_size\"], shuffle=True)\n",
    "\n",
    "    # 4. Train\n",
    "    train_model(model, dataloader, CONFIG)\n"
   ]
  }
 ],
 "metadata": {
  "language_info": {
   "name": "python"
  }
 },
 "nbformat": 4,
 "nbformat_minor": 5
}
